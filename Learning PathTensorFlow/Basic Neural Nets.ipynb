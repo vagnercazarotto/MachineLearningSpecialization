{
 "cells": [
  {
   "cell_type": "code",
   "execution_count": 1,
   "metadata": {},
   "outputs": [],
   "source": [
    "import tensorflow as tf\n",
    "import numpy as np\n",
    "import math\n",
    "\n",
    "sess = tf.InteractiveSession()"
   ]
  },
  {
   "cell_type": "code",
   "execution_count": 2,
   "metadata": {},
   "outputs": [],
   "source": [
    "# Some simple constants\n",
    "x1 = tf.Variable(tf.truncated_normal([5],\n",
    "                 mean=3, stddev=1./math.sqrt(5)))\n",
    "x2 = tf.Variable(tf.truncated_normal([5],\n",
    "                 mean=-1, stddev=1./math.sqrt(5)))\n",
    "x3 = tf.Variable(tf.truncated_normal([5],\n",
    "                 mean=0, stddev=1./math.sqrt(5)))"
   ]
  },
  {
   "cell_type": "code",
   "execution_count": 4,
   "metadata": {},
   "outputs": [
    {
     "name": "stdout",
     "output_type": "stream",
     "text": [
      "WARNING:tensorflow:From <ipython-input-4-dc288af99664>:1: initialize_all_variables (from tensorflow.python.ops.variables) is deprecated and will be removed after 2017-03-02.\n",
      "Instructions for updating:\n",
      "Use `tf.global_variables_initializer` instead.\n"
     ]
    }
   ],
   "source": [
    "sess.run(tf.initialize_all_variables())"
   ]
  },
  {
   "cell_type": "code",
   "execution_count": 5,
   "metadata": {},
   "outputs": [
    {
     "name": "stdout",
     "output_type": "stream",
     "text": [
      "[-1.12935555 -1.447106   -0.9717055  -0.92253685 -0.68734276]\n",
      "[ 1.27544391  2.09411573  0.94421154  0.85107422  0.47244006]\n"
     ]
    }
   ],
   "source": [
    "# Squaring makes large values extreme (but positive)\n",
    "# Be careful if you have negative values\n",
    "sqx2 = x2 * x2\n",
    "print(x2.eval())\n",
    "print(sqx2.eval())"
   ]
  },
  {
   "cell_type": "code",
   "execution_count": 6,
   "metadata": {},
   "outputs": [
    {
     "name": "stdout",
     "output_type": "stream",
     "text": [
      "[ 3.37055492  3.50794649  2.58961797  2.86594558  2.9070797 ]\n",
      "[ 1.2150774   1.25503087  0.95151037  1.05289841  1.06714904]\n"
     ]
    }
   ],
   "source": [
    "# Logarithm makes small values more pronounced (and negative)\n",
    "# Be careful that your algorithm can handle negative numbers\n",
    "logx1 = tf.log(x1)\n",
    "print(x1.eval())\n",
    "print(logx1.eval())"
   ]
  },
  {
   "cell_type": "code",
   "execution_count": 7,
   "metadata": {},
   "outputs": [
    {
     "name": "stdout",
     "output_type": "stream",
     "text": [
      "[-0.35314384 -0.82414603  0.34600779  0.27871811  0.47546735]\n",
      "[ 0.41262028  0.30488428  0.58564919  0.56923193  0.61667699]\n"
     ]
    }
   ],
   "source": [
    "# \"sigmoid\" is a common transformation in deep learning\n",
    "# Extreme values get flattened to +1 or 0\n",
    "# Inputs closer to zero stay similar, sigmoid(0) = 0.5\n",
    "sigx3 = tf.sigmoid(x3)\n",
    "print(x3.eval())\n",
    "print(sigx3.eval())"
   ]
  },
  {
   "cell_type": "code",
   "execution_count": 8,
   "metadata": {},
   "outputs": [
    {
     "name": "stdout",
     "output_type": "stream",
     "text": [
      "WARNING:tensorflow:From <ipython-input-8-0114a1c6227d>:4: initialize_all_variables (from tensorflow.python.ops.variables) is deprecated and will be removed after 2017-03-02.\n",
      "Instructions for updating:\n",
      "Use `tf.global_variables_initializer` instead.\n",
      "[ 0.2914916   0.26341268  0.32066321  0.2833378   0.33312762]\n",
      "[-0.09921171 -0.18381618 -0.30847168 -0.25243002 -0.07581579]\n",
      "[ 0.54792243  0.51988864  0.50304788  0.50772637  0.56397539]\n"
     ]
    }
   ],
   "source": [
    "# We linearly combine multiple inputs, then transform\n",
    "w1 = tf.constant(0.1)\n",
    "w2 = tf.constant(0.2)\n",
    "sess.run(tf.initialize_all_variables())\n",
    "n1 = tf.sigmoid(w1*x1 + w2*x2)\n",
    "print((w1*x1).eval())\n",
    "print((w2*x2).eval())\n",
    "print(n1.eval())"
   ]
  },
  {
   "cell_type": "code",
   "execution_count": null,
   "metadata": {},
   "outputs": [],
   "source": []
  }
 ],
 "metadata": {
  "kernelspec": {
   "display_name": "Python 3",
   "language": "python",
   "name": "python3"
  },
  "language_info": {
   "codemirror_mode": {
    "name": "ipython",
    "version": 3
   },
   "file_extension": ".py",
   "mimetype": "text/x-python",
   "name": "python",
   "nbconvert_exporter": "python",
   "pygments_lexer": "ipython3",
   "version": "3.5.4"
  }
 },
 "nbformat": 4,
 "nbformat_minor": 2
}
