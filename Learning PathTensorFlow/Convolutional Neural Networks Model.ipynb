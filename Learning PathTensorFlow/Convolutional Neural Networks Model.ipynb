{
 "cells": [
  {
   "cell_type": "code",
   "execution_count": 1,
   "metadata": {},
   "outputs": [],
   "source": [
    "import tensorflow as tf\n",
    "import math\n",
    "import numpy as np\n",
    "\n",
    "sess = tf.InteractiveSession()"
   ]
  },
  {
   "cell_type": "code",
   "execution_count": 2,
   "metadata": {},
   "outputs": [],
   "source": [
    "# Make some fake data, 1 data points\n",
    "image = np.random.randint(10,size=[1,10,10]) + np.eye(10)*10"
   ]
  },
  {
   "cell_type": "code",
   "execution_count": 3,
   "metadata": {},
   "outputs": [
    {
     "data": {
      "text/plain": [
       "array([[[ 10.,   3.,   6.,   4.,   9.,   5.,   4.,   1.,   7.,   7.],\n",
       "        [  8.,  15.,   2.,   6.,   1.,   3.,   6.,   0.,   8.,   7.],\n",
       "        [  6.,   3.,  17.,   7.,   0.,   9.,   4.,   1.,   1.,   2.],\n",
       "        [  1.,   9.,   3.,  18.,   8.,   5.,   5.,   1.,   1.,   2.],\n",
       "        [  7.,   0.,   4.,   9.,  18.,   9.,   9.,   5.,   3.,   6.],\n",
       "        [  2.,   4.,   3.,   7.,   5.,  16.,   4.,   2.,   1.,   0.],\n",
       "        [  1.,   7.,   4.,   9.,   9.,   9.,  18.,   8.,   0.,   3.],\n",
       "        [  2.,   7.,   6.,   7.,   0.,   3.,   0.,  19.,   1.,   7.],\n",
       "        [  7.,   7.,   3.,   8.,   6.,   5.,   5.,   4.,  11.,   8.],\n",
       "        [  0.,   8.,   3.,   5.,   6.,   3.,   6.,   0.,   1.,  12.]]])"
      ]
     },
     "execution_count": 3,
     "metadata": {},
     "output_type": "execute_result"
    }
   ],
   "source": [
    "image"
   ]
  },
  {
   "cell_type": "code",
   "execution_count": 4,
   "metadata": {},
   "outputs": [],
   "source": [
    "# TensorFlow placeholder\n",
    "# None is for batch processing \n",
    "# (-1 keeps same size)\n",
    "# 10x10 is the shape\n",
    "# 1 is the number of \"channels\" \n",
    "# (like RGB colors or gray)\n",
    "x = tf.placeholder(\"float\", [None, 10, 10])\n",
    "x_im = tf.reshape(x, [-1,10,10,1])"
   ]
  },
  {
   "cell_type": "code",
   "execution_count": 6,
   "metadata": {},
   "outputs": [],
   "source": [
    "### Convolutional Layer\n",
    "\n",
    "# Window size to use, 3x3 here\n",
    "winx = 3\n",
    "winy = 3"
   ]
  },
  {
   "cell_type": "code",
   "execution_count": 7,
   "metadata": {},
   "outputs": [],
   "source": [
    "# How many features to compute on the window\n",
    "num_filters = 2"
   ]
  },
  {
   "cell_type": "code",
   "execution_count": 8,
   "metadata": {},
   "outputs": [],
   "source": [
    "# Weight shape should match window size\n",
    "# The '1' represents the number of \n",
    "# input \"channels\" (colors)\n",
    "W1 = tf.Variable(tf.truncated_normal([winx, winy,1, num_filters],stddev=1./math.sqrt(winx*winy)))\n",
    "\n",
    "b1 = tf.Variable(tf.constant(0.1,shape=[num_filters]))"
   ]
  },
  {
   "cell_type": "code",
   "execution_count": 9,
   "metadata": {},
   "outputs": [],
   "source": [
    "# 3x3 convolution, Pad with zeros on edges\n",
    "# Strides is how to step, here 1 pixel at a time\n",
    "xw = tf.nn.conv2d(x_im, W1,strides=[1, 1, 1, 1], padding='SAME')\n",
    "h1 = tf.nn.relu(xw + b1)"
   ]
  },
  {
   "cell_type": "code",
   "execution_count": 10,
   "metadata": {},
   "outputs": [
    {
     "name": "stdout",
     "output_type": "stream",
     "text": [
      "WARNING:tensorflow:From <ipython-input-10-9cf14eab989c>:2: initialize_all_variables (from tensorflow.python.ops.variables) is deprecated and will be removed after 2017-03-02.\n",
      "Instructions for updating:\n",
      "Use `tf.global_variables_initializer` instead.\n"
     ]
    }
   ],
   "source": [
    "# Remember to initialize!\n",
    "sess.run(tf.initialize_all_variables())"
   ]
  },
  {
   "cell_type": "code",
   "execution_count": 11,
   "metadata": {},
   "outputs": [],
   "source": [
    "# Peek inside\n",
    "H = h1.eval(feed_dict = {x: image})"
   ]
  },
  {
   "cell_type": "code",
   "execution_count": 12,
   "metadata": {},
   "outputs": [],
   "source": [
    "# Let's take a look\n",
    "import matplotlib.pyplot as plt\n",
    "plt.ion()"
   ]
  },
  {
   "cell_type": "code",
   "execution_count": 13,
   "metadata": {},
   "outputs": [
    {
     "data": {
      "text/plain": [
       "<matplotlib.colorbar.Colorbar at 0x2bc0df66b00>"
      ]
     },
     "execution_count": 13,
     "metadata": {},
     "output_type": "execute_result"
    },
    {
     "data": {
      "image/png": "[encoded data removed]",
      "text/plain": [
       "<matplotlib.figure.Figure at 0x2bc0df66b38>"
      ]
     },
     "metadata": {},
     "output_type": "display_data"
    }
   ],
   "source": [
    "\n",
    "# Original\n",
    "plt.matshow(image[0])\n",
    "plt.colorbar()"
   ]
  },
  {
   "cell_type": "code",
   "execution_count": 14,
   "metadata": {},
   "outputs": [
    {
     "data": {
      "text/plain": [
       "<matplotlib.colorbar.Colorbar at 0x2bc0e032198>"
      ]
     },
     "execution_count": 14,
     "metadata": {},
     "output_type": "execute_result"
    },
    {
     "data": {
      "image/png": "[encoded data removed]",
      "text/plain": [
       "<matplotlib.figure.Figure at 0x2bc0e0320f0>"
      ]
     },
     "metadata": {},
     "output_type": "display_data"
    }
   ],
   "source": [
    "# Conv channel 1\n",
    "plt.matshow(H[0,:,:,0])\n",
    "plt.colorbar()"
   ]
  },
  {
   "cell_type": "code",
   "execution_count": 15,
   "metadata": {},
   "outputs": [
    {
     "data": {
      "text/plain": [
       "<matplotlib.colorbar.Colorbar at 0x2bc0e117438>"
      ]
     },
     "execution_count": 15,
     "metadata": {},
     "output_type": "execute_result"
    },
    {
     "data": {
      "image/png": "[encoded data removed]",
      "text/plain": [
       "<matplotlib.figure.Figure at 0x2bc0e1174a8>"
      ]
     },
     "metadata": {},
     "output_type": "display_data"
    }
   ],
   "source": [
    "# Conv channel 2\n",
    "plt.matshow(H[0,:,:,1])\n",
    "plt.colorbar()\n"
   ]
  },
  {
   "cell_type": "code",
   "execution_count": null,
   "metadata": {},
   "outputs": [],
   "source": []
  }
 ],
 "metadata": {
  "kernelspec": {
   "display_name": "Python 3",
   "language": "python",
   "name": "python3"
  },
  "language_info": {
   "codemirror_mode": {
    "name": "ipython",
    "version": 3
   },
   "file_extension": ".py",
   "mimetype": "text/x-python",
   "name": "python",
   "nbconvert_exporter": "python",
   "pygments_lexer": "ipython3",
   "version": "3.5.4"
  }
 },
 "nbformat": 4,
 "nbformat_minor": 2
}
