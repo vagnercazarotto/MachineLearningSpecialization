{
 "cells": [
  {
   "cell_type": "code",
   "execution_count": 4,
   "metadata": {},
   "outputs": [],
   "source": [
    "import tensorflow as tf\n",
    "import numpy as np"
   ]
  },
  {
   "cell_type": "code",
   "execution_count": 2,
   "metadata": {},
   "outputs": [],
   "source": [
    "try:\n",
    "    from tqdm import tqdm\n",
    "except ImportError:\n",
    "    def tqdm(x, *args, **kargs):\n",
    "        return x"
   ]
  },
  {
   "cell_type": "code",
   "execution_count": 5,
   "metadata": {},
   "outputs": [],
   "source": [
    "# set random seed\n",
    "np.random.seed(0)"
   ]
  },
  {
   "cell_type": "code",
   "execution_count": 9,
   "metadata": {},
   "outputs": [],
   "source": [
    "# load data\n",
    "data = np.load('data_with_labels.npz')\n",
    "train = data['arr_0']/255.\n",
    "labels = data['arr_1']"
   ]
  },
  {
   "cell_type": "code",
   "execution_count": 10,
   "metadata": {},
   "outputs": [
    {
     "name": "stdout",
     "output_type": "stream",
     "text": [
      "[[ 0.  0.  0. ...,  0.  0.  0.]\n",
      " [ 0.  0.  0. ...,  0.  0.  0.]\n",
      " [ 0.  0.  0. ...,  0.  0.  0.]\n",
      " ..., \n",
      " [ 0.  0.  0. ...,  0.  0.  0.]\n",
      " [ 0.  0.  0. ...,  0.  0.  0.]\n",
      " [ 0.  0.  0. ...,  0.  0.  0.]]\n",
      "0\n"
     ]
    }
   ],
   "source": [
    "# Look at some data\n",
    "print(train[0])\n",
    "print(labels[0])"
   ]
  },
  {
   "cell_type": "code",
   "execution_count": 11,
   "metadata": {},
   "outputs": [],
   "source": [
    "import matplotlib.pyplot as plt\n",
    "plt.ion()"
   ]
  },
  {
   "cell_type": "code",
   "execution_count": 15,
   "metadata": {},
   "outputs": [
    {
     "data": {
      "image/png": "[encoded data removed]",
      "text/plain": [
       "<matplotlib.figure.Figure at 0x19fdb1816a0>"
      ]
     },
     "metadata": {},
     "output_type": "display_data"
    }
   ],
   "source": [
    "# Let's look at a subplot of one of A in each font\n",
    "f, plts = plt.subplots(5, sharex=True)\n",
    "c = 91\n",
    "for i in range(5):\n",
    "    plts[i].pcolor(train[c + i * 558],cmap=plt.cm.gray_r)"
   ]
  },
  {
   "cell_type": "code",
   "execution_count": 16,
   "metadata": {},
   "outputs": [],
   "source": [
    "def to_onehot(labels,nclasses = 5):\n",
    "    '''\n",
    "    Convert labels to \"one-hot\" format.\n",
    "    >>> a = [0,1,2,3]\n",
    "    >>> to_onehot(a,5)\n",
    "    array([[ 1.,  0.,  0.,  0.,  0.],\n",
    "           [ 0.,  1.,  0.,  0.,  0.],\n",
    "           [ 0.,  0.,  1.,  0.,  0.],\n",
    "           [ 0.,  0.,  0.,  1.,  0.]])\n",
    "    '''\n",
    "    outlabels = np.zeros((len(labels),nclasses))\n",
    "    for i,l in enumerate(labels):\n",
    "        outlabels[i,l] = 1\n",
    "    return outlabels\n"
   ]
  },
  {
   "cell_type": "code",
   "execution_count": 17,
   "metadata": {},
   "outputs": [],
   "source": [
    "onehot = to_onehot(labels)"
   ]
  },
  {
   "cell_type": "code",
   "execution_count": 18,
   "metadata": {},
   "outputs": [],
   "source": [
    "\n",
    "# Split data into training and validation\n",
    "indices = np.random.permutation(train.shape[0])\n",
    "valid_cnt = int(train.shape[0] * 0.1)\n",
    "test_idx, training_idx = indices[:valid_cnt],\\\n",
    "                         indices[valid_cnt:]\n",
    "test, train = train[test_idx,:],\\\n",
    "              train[training_idx,:]\n",
    "onehot_test, onehot_train = onehot[test_idx,:],\\\n",
    "                        onehot[training_idx,:]"
   ]
  },
  {
   "cell_type": "code",
   "execution_count": 22,
   "metadata": {},
   "outputs": [],
   "source": [
    "sess = tf.InteractiveSession()"
   ]
  },
  {
   "cell_type": "code",
   "execution_count": 23,
   "metadata": {},
   "outputs": [],
   "source": [
    "# These will be inputs\n",
    "## Input pixels, flattened\n",
    "x = tf.placeholder(\"float\", [None, 1296])\n",
    "## Known labels\n",
    "y_ = tf.placeholder(\"float\", [None,5])\n"
   ]
  },
  {
   "cell_type": "code",
   "execution_count": 25,
   "metadata": {},
   "outputs": [],
   "source": [
    "# Variables\n",
    "W = tf.Variable(tf.zeros([1296,5]))\n",
    "b = tf.Variable(tf.zeros([5]))"
   ]
  },
  {
   "cell_type": "code",
   "execution_count": 26,
   "metadata": {},
   "outputs": [
    {
     "name": "stdout",
     "output_type": "stream",
     "text": [
      "WARNING:tensorflow:From <ipython-input-26-c9c89ae896ad>:2: initialize_all_variables (from tensorflow.python.ops.variables) is deprecated and will be removed after 2017-03-02.\n",
      "Instructions for updating:\n",
      "Use `tf.global_variables_initializer` instead.\n"
     ]
    }
   ],
   "source": [
    "# Just initialize\n",
    "sess.run(tf.initialize_all_variables())"
   ]
  },
  {
   "cell_type": "code",
   "execution_count": 27,
   "metadata": {},
   "outputs": [],
   "source": [
    "### End model specification, begin training code"
   ]
  },
  {
   "cell_type": "code",
   "execution_count": null,
   "metadata": {},
   "outputs": [],
   "source": []
  }
 ],
 "metadata": {
  "kernelspec": {
   "display_name": "Python 3",
   "language": "python",
   "name": "python3"
  },
  "language_info": {
   "codemirror_mode": {
    "name": "ipython",
    "version": 3
   },
   "file_extension": ".py",
   "mimetype": "text/x-python",
   "name": "python",
   "nbconvert_exporter": "python",
   "pygments_lexer": "ipython3",
   "version": "3.5.4"
  }
 },
 "nbformat": 4,
 "nbformat_minor": 2
}
