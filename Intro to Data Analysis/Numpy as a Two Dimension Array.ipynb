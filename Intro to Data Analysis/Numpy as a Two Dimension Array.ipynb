{
 "cells": [
  {
   "cell_type": "code",
   "execution_count": 1,
   "metadata": {
    "collapsed": true
   },
   "outputs": [],
   "source": [
    "import numpy as np\n",
    "\n",
    "# Subway ridership for 5 stations on 10 different days\n",
    "ridership = np.array([\n",
    "    [   0,    0,    2,    5,    0],\n",
    "    [1478, 3877, 3674, 2328, 2539],\n",
    "    [1613, 4088, 3991, 6461, 2691],\n",
    "    [1560, 3392, 3826, 4787, 2613],\n",
    "    [1608, 4802, 3932, 4477, 2705],\n",
    "    [1576, 3933, 3909, 4979, 2685],\n",
    "    [  95,  229,  255,  496,  201],\n",
    "    [   2,    0,    1,   27,    0],\n",
    "    [1438, 3785, 3589, 4174, 2215],\n",
    "    [1342, 4043, 4009, 4665, 3033]\n",
    "])\n"
   ]
  },
  {
   "cell_type": "code",
   "execution_count": 3,
   "metadata": {
    "collapsed": false
   },
   "outputs": [
    {
     "name": "stdout",
     "output_type": "stream",
     "text": [
      "2328\n",
      "[[2328 2539]\n",
      " [6461 2691]]\n",
      "[1478 3877 3674 2328 2539]\n"
     ]
    }
   ],
   "source": [
    "# Accessing elements\n",
    "print ridership[1, 3]\n",
    "print ridership[1:3, 3:5]\n",
    "print ridership[1, :]"
   ]
  },
  {
   "cell_type": "code",
   "execution_count": 8,
   "metadata": {
    "collapsed": false
   },
   "outputs": [
    {
     "name": "stdout",
     "output_type": "stream",
     "text": [
      "[0 0 2 5 0]\n",
      "[1478 3877 3674 2328 2539]\n",
      "[1478 3877 3676 2333 2539]\n",
      "[   0 5355 5701 4952 6410 5509  324    2 5223 5385]\n",
      "[   0 1478 1613 1560 1608 1576   95    2 1438 1342]\n",
      "[   0 3877 4088 3392 4802 3933  229    0 3785 4043]\n"
     ]
    }
   ],
   "source": [
    "# Vectorized operations on rows or columns\n",
    "print ridership[0, :]\n",
    "print ridership[1, :]\n",
    "print ridership[0, :] + ridership[1, :]\n",
    "print ridership[:, 0] + ridership[:, 1]\n",
    "print ridership[:, 0] \n",
    "print ridership[:, 1]"
   ]
  },
  {
   "cell_type": "code",
   "execution_count": 9,
   "metadata": {
    "collapsed": false
   },
   "outputs": [
    {
     "name": "stdout",
     "output_type": "stream",
     "text": [
      "[[1 2 3]\n",
      " [4 5 6]\n",
      " [7 8 9]]\n",
      "[[1 1 1]\n",
      " [2 2 2]\n",
      " [3 3 3]]\n",
      "[[ 2  3  4]\n",
      " [ 6  7  8]\n",
      " [10 11 12]]\n"
     ]
    }
   ],
   "source": [
    "# Vectorized operations on entire arrays\n",
    "\n",
    "a = np.array([[1, 2, 3], [4, 5, 6], [7, 8, 9]])\n",
    "b = np.array([[1, 1, 1], [2, 2, 2], [3, 3, 3]])\n",
    "print a\n",
    "print b\n",
    "print a + b"
   ]
  },
  {
   "cell_type": "code",
   "execution_count": 33,
   "metadata": {
    "collapsed": false,
    "scrolled": true
   },
   "outputs": [
    {
     "name": "stdout",
     "output_type": "stream",
     "text": [
      "5\n",
      "3\n",
      "[   5 2328 6461 4787 4477 4979  496   27 4174 4665]\n",
      "2342.6\n"
     ]
    }
   ],
   "source": [
    "## First find the station with the maximun riders on the first day\n",
    "print ridership[0,:].max() # max value for the riders\n",
    "print ridership[0,:].argmax() # station with the max value for riders\n",
    "max_station = ridership[0,:].argmax()\n",
    "\n",
    "# Find the mean riders per day for that station\n",
    "print ridership[:,max_station]\n",
    "mean_for_max = ridership[:,max_station].mean()\n",
    "# Now find the mean ridership overall for comparasion \n",
    "print  ridership.mean()\n"
   ]
  },
  {
   "cell_type": "code",
   "execution_count": 34,
   "metadata": {
    "collapsed": true
   },
   "outputs": [],
   "source": [
    "def mean_riders_for_max_station(ridership):\n",
    "    ## First find the station with the maximun riders on the first day\n",
    "    max_station = ridership[0,:].argmax()\n",
    "    # Find the mean riders per day for that station\n",
    "    mean_for_max = ridership[:,max_station].mean()\n",
    "    # Now find the mean ridership overall for comparasion \n",
    "    overall_mean = ridership.mean()\n",
    "    \n",
    "    return (overall_mean,mean_for_max)\n"
   ]
  },
  {
   "cell_type": "code",
   "execution_count": 35,
   "metadata": {
    "collapsed": false
   },
   "outputs": [
    {
     "data": {
      "text/plain": [
       "(2342.5999999999999, 3239.9000000000001)"
      ]
     },
     "execution_count": 35,
     "metadata": {},
     "output_type": "execute_result"
    }
   ],
   "source": [
    "mean_riders_for_max_station(ridership)"
   ]
  },
  {
   "cell_type": "code",
   "execution_count": null,
   "metadata": {
    "collapsed": true
   },
   "outputs": [],
   "source": []
  }
 ],
 "metadata": {
  "kernelspec": {
   "display_name": "Python [conda env:DAND]",
   "language": "python",
   "name": "conda-env-DAND-py"
  },
  "language_info": {
   "codemirror_mode": {
    "name": "ipython",
    "version": 2
   },
   "file_extension": ".py",
   "mimetype": "text/x-python",
   "name": "python",
   "nbconvert_exporter": "python",
   "pygments_lexer": "ipython2",
   "version": "2.7.12"
  }
 },
 "nbformat": 4,
 "nbformat_minor": 2
}
